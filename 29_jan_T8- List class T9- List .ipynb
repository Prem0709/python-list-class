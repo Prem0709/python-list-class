{
 "cells": [
  {
   "cell_type": "markdown",
   "id": "65f861b6-4326-4adb-a93c-149bb8622d6c",
   "metadata": {},
   "source": [
    "# 29 jan "
   ]
  },
  {
   "cell_type": "code",
   "execution_count": 6,
   "id": "5b8b4aad-7c16-4029-bfa5-fad6af3a04aa",
   "metadata": {},
   "outputs": [],
   "source": [
    "# T8- List class explanation (class notes )\n",
    "# T9- List shared pdf documentation "
   ]
  },
  {
   "cell_type": "code",
   "execution_count": 11,
   "id": "3faac129-56e0-499f-81d0-3ba5ea94010c",
   "metadata": {},
   "outputs": [],
   "source": [
    "# ."
   ]
  },
  {
   "cell_type": "code",
   "execution_count": 13,
   "id": "c8ea88ba-8ad5-4695-a4ea-37523452b141",
   "metadata": {},
   "outputs": [],
   "source": [
    "# ."
   ]
  },
  {
   "cell_type": "code",
   "execution_count": 15,
   "id": "9aa63de6-41da-47a5-877e-5403752e238b",
   "metadata": {},
   "outputs": [],
   "source": [
    "# 1) List is an ordered sequence of items. \n",
    "# 2) We can have different data types under a list. E.g we can have integer, float and string items in \n",
    "# a same list. "
   ]
  },
  {
   "cell_type": "markdown",
   "id": "190d110b-c3ef-4ce0-a302-34019100980c",
   "metadata": {},
   "source": [
    "# list Creation "
   ]
  },
  {
   "cell_type": "code",
   "execution_count": 18,
   "id": "04d7dcf0-3672-47a5-a95b-e29158b607b5",
   "metadata": {},
   "outputs": [],
   "source": [
    "l = [] #Empty string "
   ]
  },
  {
   "cell_type": "code",
   "execution_count": 22,
   "id": "41ae34f8-5b59-40ea-8d69-917b09c16726",
   "metadata": {},
   "outputs": [
    {
     "data": {
      "text/plain": [
       "list"
      ]
     },
     "execution_count": 22,
     "metadata": {},
     "output_type": "execute_result"
    }
   ],
   "source": [
    "type(l)"
   ]
  },
  {
   "cell_type": "code",
   "execution_count": 24,
   "id": "278b7543-7898-4551-8bf5-49669211c060",
   "metadata": {},
   "outputs": [
    {
     "name": "stdout",
     "output_type": "stream",
     "text": [
      "<class 'list'>\n"
     ]
    }
   ],
   "source": [
    "print(type(l))"
   ]
  },
  {
   "cell_type": "code",
   "execution_count": 137,
   "id": "9ae17be5-6822-401a-8abb-6fd8985a692a",
   "metadata": {},
   "outputs": [
    {
     "data": {
      "text/plain": [
       "[11, 22, 33, 44, 55]"
      ]
     },
     "execution_count": 137,
     "metadata": {},
     "output_type": "execute_result"
    }
   ],
   "source": [
    "li = [11,22,33,44,55]\n",
    "li       #list of integer no"
   ]
  },
  {
   "cell_type": "code",
   "execution_count": 30,
   "id": "95ee7434-f895-4dae-80dd-e1b054a3b5b9",
   "metadata": {},
   "outputs": [
    {
     "data": {
      "text/plain": [
       "[1.1, 2.2, 3.3, 4.4, 5.5]"
      ]
     },
     "execution_count": 30,
     "metadata": {},
     "output_type": "execute_result"
    }
   ],
   "source": [
    "li1 = [1.1,2.2,3.3,4.4,5.5] #List of float Number\n",
    "li1"
   ]
  },
  {
   "cell_type": "code",
   "execution_count": 36,
   "id": "5645cc65-9bf2-459f-bbe3-3700631a3d45",
   "metadata": {},
   "outputs": [
    {
     "data": {
      "text/plain": [
       "['prem', 'arjun', 'Pawar']"
      ]
     },
     "execution_count": 36,
     "metadata": {},
     "output_type": "execute_result"
    }
   ],
   "source": [
    "li2 = [\"prem\", \"arjun\", \"Pawar\"] # List of String \n",
    "li2"
   ]
  },
  {
   "cell_type": "code",
   "execution_count": 42,
   "id": "0ae432a7-d609-48b3-9331-d4fb9c0feb0e",
   "metadata": {},
   "outputs": [
    {
     "data": {
      "text/plain": [
       "['prem', 23, [12, 122], [45, 54], {'Pawar', 'premk'}]"
      ]
     },
     "execution_count": 42,
     "metadata": {},
     "output_type": "execute_result"
    }
   ],
   "source": [
    "li3 = ['prem', 23, [12,122],[45,54],{\"premk\", \"Pawar\"}] #Nested List\n",
    "li3"
   ]
  },
  {
   "cell_type": "code",
   "execution_count": 44,
   "id": "6afef732-14d3-413f-9225-8265647f7b7f",
   "metadata": {},
   "outputs": [
    {
     "data": {
      "text/plain": [
       "[12, 'prem', 123.23]"
      ]
     },
     "execution_count": 44,
     "metadata": {},
     "output_type": "execute_result"
    }
   ],
   "source": [
    "li4 = [12,\"prem\",123.23]  # Mixed data type of list\n",
    "li4"
   ]
  },
  {
   "cell_type": "code",
   "execution_count": 48,
   "id": "8d562776-f69b-48ea-8d47-42d4c06d3bae",
   "metadata": {},
   "outputs": [
    {
     "data": {
      "text/plain": [
       "['prem', 23, [12, 122], [45, 54], {'Pawar', 'premk'}]"
      ]
     },
     "execution_count": 48,
     "metadata": {},
     "output_type": "execute_result"
    }
   ],
   "source": [
    "li3"
   ]
  },
  {
   "cell_type": "code",
   "execution_count": 46,
   "id": "2ba7003d-ab28-403b-a23b-3d4791fc1034",
   "metadata": {},
   "outputs": [
    {
     "data": {
      "text/plain": [
       "5"
      ]
     },
     "execution_count": 46,
     "metadata": {},
     "output_type": "execute_result"
    }
   ],
   "source": [
    "len(li3)"
   ]
  },
  {
   "cell_type": "code",
   "execution_count": 50,
   "id": "d4640862-882c-4e84-b02d-5abc8f74d183",
   "metadata": {},
   "outputs": [],
   "source": [
    "# ."
   ]
  },
  {
   "cell_type": "code",
   "execution_count": 52,
   "id": "e14523c6-79bc-45b5-ad5a-3a4d980c9b8a",
   "metadata": {},
   "outputs": [],
   "source": [
    "# ."
   ]
  },
  {
   "cell_type": "markdown",
   "id": "b1d7a6de-9b5b-4370-ab1a-064c9d714cd1",
   "metadata": {},
   "source": [
    "# List Indexing "
   ]
  },
  {
   "cell_type": "markdown",
   "id": "80c4cf93-cc8a-4d20-9553-9a78c2a00258",
   "metadata": {},
   "source": [
    "![Alt Text](python_data_science/img/list_indexing.png)"
   ]
  },
  {
   "cell_type": "code",
   "execution_count": 139,
   "id": "4b232ffa-fbf6-431b-b7a6-0cc065aebc11",
   "metadata": {},
   "outputs": [
    {
     "data": {
      "text/plain": [
       "[11, 22, 33, 44, 55]"
      ]
     },
     "execution_count": 139,
     "metadata": {},
     "output_type": "execute_result"
    }
   ],
   "source": [
    "li"
   ]
  },
  {
   "cell_type": "code",
   "execution_count": 141,
   "id": "14cd12fe-ed8d-4981-a9be-df1e492ae05a",
   "metadata": {},
   "outputs": [
    {
     "data": {
      "text/plain": [
       "[11, 22, 33, 44, 55]"
      ]
     },
     "execution_count": 141,
     "metadata": {},
     "output_type": "execute_result"
    }
   ],
   "source": [
    "li[0:] # print all whole element value in list"
   ]
  },
  {
   "cell_type": "code",
   "execution_count": 143,
   "id": "37c4844c-db4f-4ca7-97a1-43f3e0ed32ab",
   "metadata": {},
   "outputs": [],
   "source": [
    "# Forward index"
   ]
  },
  {
   "cell_type": "code",
   "execution_count": 145,
   "id": "3fc3ad3b-1402-45b1-996c-9ed08ae9e1bb",
   "metadata": {},
   "outputs": [
    {
     "name": "stdout",
     "output_type": "stream",
     "text": [
      "11\n",
      "22\n",
      "33\n",
      "44\n",
      "55\n"
     ]
    }
   ],
   "source": [
    "print(li[0])\n",
    "print(li[1])\n",
    "print(li[2])\n",
    "print(li[3])\n",
    "print(li[4])"
   ]
  },
  {
   "cell_type": "code",
   "execution_count": 147,
   "id": "0e4f0ee3-73c1-4760-84b2-e3cfd0487a93",
   "metadata": {},
   "outputs": [],
   "source": [
    "#backword indexing"
   ]
  },
  {
   "cell_type": "code",
   "execution_count": 149,
   "id": "b8c20021-9825-4299-9ea4-a7edcd8e0eae",
   "metadata": {},
   "outputs": [
    {
     "name": "stdout",
     "output_type": "stream",
     "text": [
      "11\n",
      "22\n",
      "33\n",
      "44\n",
      "55\n"
     ]
    }
   ],
   "source": [
    "print(li[-5])\n",
    "print(li[-4])\n",
    "print(li[-3])\n",
    "print(li[-2])\n",
    "print(li[-1])"
   ]
  },
  {
   "cell_type": "code",
   "execution_count": 151,
   "id": "43c18810-6805-40d3-b29f-abe0895b91fd",
   "metadata": {},
   "outputs": [],
   "source": [
    "# List Slicing "
   ]
  },
  {
   "cell_type": "code",
   "execution_count": 153,
   "id": "a45e0ddb-268c-4539-9d2a-d2926b561593",
   "metadata": {},
   "outputs": [
    {
     "data": {
      "text/plain": [
       "[11, 22, 33, 44, 55]"
      ]
     },
     "execution_count": 153,
     "metadata": {},
     "output_type": "execute_result"
    }
   ],
   "source": [
    "li"
   ]
  },
  {
   "cell_type": "code",
   "execution_count": 155,
   "id": "a197e0c9-58d5-47c7-8b3d-7f9610aa205e",
   "metadata": {},
   "outputs": [],
   "source": [
    "# forward  Indexing"
   ]
  },
  {
   "cell_type": "code",
   "execution_count": 157,
   "id": "3ec683e6-a78d-4b34-b4a2-1f760112095c",
   "metadata": {},
   "outputs": [
    {
     "data": {
      "text/plain": [
       "[11, 22, 33]"
      ]
     },
     "execution_count": 157,
     "metadata": {},
     "output_type": "execute_result"
    }
   ],
   "source": [
    "li[0:3] \n",
    "# li[s:n]  : n= n-1 ,:n= 3-1 =2=33"
   ]
  },
  {
   "cell_type": "code",
   "execution_count": 159,
   "id": "482f939d-43da-4136-9171-055e5f152daf",
   "metadata": {},
   "outputs": [
    {
     "data": {
      "text/plain": [
       "[44]"
      ]
     },
     "execution_count": 159,
     "metadata": {},
     "output_type": "execute_result"
    }
   ],
   "source": [
    "li[3:4] # : li[start : stop] ston= n and n=n-1"
   ]
  },
  {
   "cell_type": "code",
   "execution_count": 161,
   "id": "43a55d94-68cd-4317-bf06-0c05681557ea",
   "metadata": {},
   "outputs": [],
   "source": [
    "# Backward indexing"
   ]
  },
  {
   "cell_type": "code",
   "execution_count": 163,
   "id": "c7e25757-cdcb-4d91-9b7b-c17a2e927c90",
   "metadata": {},
   "outputs": [
    {
     "data": {
      "text/plain": [
       "44"
      ]
     },
     "execution_count": 163,
     "metadata": {},
     "output_type": "execute_result"
    }
   ],
   "source": [
    "li[-2]"
   ]
  },
  {
   "cell_type": "code",
   "execution_count": 165,
   "id": "6434b3a6-fa2d-42a7-b17d-f3a6d5af0f62",
   "metadata": {},
   "outputs": [
    {
     "data": {
      "text/plain": [
       "[11]"
      ]
     },
     "execution_count": 165,
     "metadata": {},
     "output_type": "execute_result"
    }
   ],
   "source": [
    "li[-5:-4] #: n=n-1 ; n= -4-1=-5"
   ]
  },
  {
   "cell_type": "markdown",
   "id": "03321f9e-e875-4807-9b4a-9dd867acc4db",
   "metadata": {},
   "source": [
    "# Add , Remove & Change Items "
   ]
  },
  {
   "cell_type": "code",
   "execution_count": 168,
   "id": "5b6d916f-f5b0-4de4-a039-e0c2217bba35",
   "metadata": {},
   "outputs": [
    {
     "data": {
      "text/plain": [
       "[11, 22, 33, 44, 55]"
      ]
     },
     "execution_count": 168,
     "metadata": {},
     "output_type": "execute_result"
    }
   ],
   "source": [
    "li"
   ]
  },
  {
   "cell_type": "code",
   "execution_count": 170,
   "id": "a5fbbada-c990-4475-a3ce-b1629e3fb6b9",
   "metadata": {},
   "outputs": [
    {
     "data": {
      "text/plain": [
       "[11, 22, 33, 44, 55, 92]"
      ]
     },
     "execution_count": 170,
     "metadata": {},
     "output_type": "execute_result"
    }
   ],
   "source": [
    "li.append(92) # add an item to the end of the list\n",
    "li"
   ]
  },
  {
   "cell_type": "code",
   "execution_count": 172,
   "id": "e1a7efe5-0ffb-4b1f-a29b-a836bd1501a6",
   "metadata": {},
   "outputs": [
    {
     "data": {
      "text/plain": [
       "[99, 11, 22, 33, 44, 55, 92]"
      ]
     },
     "execution_count": 172,
     "metadata": {},
     "output_type": "execute_result"
    }
   ],
   "source": [
    "li.insert(0,99) # add the value at index location 0\n",
    "li"
   ]
  },
  {
   "cell_type": "code",
   "execution_count": 174,
   "id": "5918e075-3c13-4c37-9cb8-ef32c8ddbcd0",
   "metadata": {},
   "outputs": [
    {
     "data": {
      "text/plain": [
       "[11, 22, 33, 44, 55, 92]"
      ]
     },
     "execution_count": 174,
     "metadata": {},
     "output_type": "execute_result"
    }
   ],
   "source": [
    "li.remove(99)\n",
    "li"
   ]
  },
  {
   "cell_type": "code",
   "execution_count": 176,
   "id": "22e42631-ae45-4267-b441-d41c54981f97",
   "metadata": {},
   "outputs": [
    {
     "data": {
      "text/plain": [
       "[11, 22, 33, 44, 55]"
      ]
     },
     "execution_count": 176,
     "metadata": {},
     "output_type": "execute_result"
    }
   ],
   "source": [
    "li.pop() # Remove last item of the list \n",
    "li"
   ]
  },
  {
   "cell_type": "code",
   "execution_count": 183,
   "id": "49ae4852-f8c4-4339-a8fb-897fc22fdff2",
   "metadata": {},
   "outputs": [
    {
     "data": {
      "text/plain": [
       "[11, 22, 33, 55]"
      ]
     },
     "execution_count": 183,
     "metadata": {},
     "output_type": "execute_result"
    }
   ],
   "source": [
    "li.pop(3) # Remove the value at index location 5\n",
    "li # index of 5 = 44"
   ]
  },
  {
   "cell_type": "code",
   "execution_count": 185,
   "id": "4ec75d30-99d6-48c9-b0dc-bb70b0e1ff1c",
   "metadata": {},
   "outputs": [
    {
     "data": {
      "text/plain": [
       "[11, 22, 33, 55]"
      ]
     },
     "execution_count": 185,
     "metadata": {},
     "output_type": "execute_result"
    }
   ],
   "source": [
    "li5 = li.copy()\n",
    "li5"
   ]
  },
  {
   "cell_type": "code",
   "execution_count": 187,
   "id": "91c54238-1617-4d8e-9a7c-4f1d393b7aa7",
   "metadata": {},
   "outputs": [],
   "source": [
    "del li5 # Delete the whole list \n"
   ]
  },
  {
   "cell_type": "code",
   "execution_count": 189,
   "id": "b49bdf07-c1d2-4232-9c33-1a60cb91ffb5",
   "metadata": {},
   "outputs": [
    {
     "ename": "NameError",
     "evalue": "name 'li5' is not defined",
     "output_type": "error",
     "traceback": [
      "\u001b[1;31m---------------------------------------------------------------------------\u001b[0m",
      "\u001b[1;31mNameError\u001b[0m                                 Traceback (most recent call last)",
      "Cell \u001b[1;32mIn[189], line 1\u001b[0m\n\u001b[1;32m----> 1\u001b[0m li5\n",
      "\u001b[1;31mNameError\u001b[0m: name 'li5' is not defined"
     ]
    }
   ],
   "source": [
    "li5"
   ]
  },
  {
   "cell_type": "markdown",
   "id": "fe600640-6f9b-4833-a88d-c5a83a0fc6cb",
   "metadata": {},
   "source": [
    "# Copy List "
   ]
  },
  {
   "cell_type": "code",
   "execution_count": 204,
   "id": "930bd316-3fc6-4b76-97ff-40ce39aa7d2b",
   "metadata": {},
   "outputs": [],
   "source": [
    "li5 = li.copy() # use .copy()"
   ]
  },
  {
   "cell_type": "code",
   "execution_count": 206,
   "id": "7e7e3639-96c6-4d4f-be6f-6ee5ee27215e",
   "metadata": {},
   "outputs": [
    {
     "data": {
      "text/plain": [
       "[11, 22, 33, 55]"
      ]
     },
     "execution_count": 206,
     "metadata": {},
     "output_type": "execute_result"
    }
   ],
   "source": [
    "li5"
   ]
  },
  {
   "cell_type": "code",
   "execution_count": 208,
   "id": "8abac000-c6cf-473f-95ef-86693a92e511",
   "metadata": {},
   "outputs": [
    {
     "data": {
      "text/plain": [
       "[11, 22, 33, 55]"
      ]
     },
     "execution_count": 208,
     "metadata": {},
     "output_type": "execute_result"
    }
   ],
   "source": [
    "li6 = li5 # create new refernce \"li6\"\n",
    "li6"
   ]
  },
  {
   "cell_type": "code",
   "execution_count": 214,
   "id": "5645d290-6cc4-4bf7-aa03-1fb00c09b4fe",
   "metadata": {},
   "outputs": [
    {
     "data": {
      "text/plain": [
       "[11, 22]"
      ]
     },
     "execution_count": 214,
     "metadata": {},
     "output_type": "execute_result"
    }
   ],
   "source": [
    "li7 = li[0:2] # copy perticular value / s:n \n",
    "li7"
   ]
  },
  {
   "cell_type": "markdown",
   "id": "54f635db-f6ad-47c4-84ee-24f91ef81dcc",
   "metadata": {},
   "source": [
    "# join list"
   ]
  },
  {
   "cell_type": "code",
   "execution_count": 218,
   "id": "0ac9b44d-8a0d-4109-9335-bd826de492d5",
   "metadata": {},
   "outputs": [
    {
     "data": {
      "text/plain": [
       "[11, 22, 33, 55]"
      ]
     },
     "execution_count": 218,
     "metadata": {},
     "output_type": "execute_result"
    }
   ],
   "source": [
    "li"
   ]
  },
  {
   "cell_type": "code",
   "execution_count": 220,
   "id": "201f30dc-a4ed-402c-8557-5b3398b62f88",
   "metadata": {},
   "outputs": [
    {
     "data": {
      "text/plain": [
       "['prem', 'arjun', 'Pawar']"
      ]
     },
     "execution_count": 220,
     "metadata": {},
     "output_type": "execute_result"
    }
   ],
   "source": [
    "li2"
   ]
  },
  {
   "cell_type": "code",
   "execution_count": 224,
   "id": "65a5414b-f830-4323-9039-fdb04bd2c561",
   "metadata": {},
   "outputs": [
    {
     "data": {
      "text/plain": [
       "[11, 22, 33, 55, 'prem', 'arjun', 'Pawar']"
      ]
     },
     "execution_count": 224,
     "metadata": {},
     "output_type": "execute_result"
    }
   ],
   "source": [
    "l3 = li + li2\n",
    "l3"
   ]
  },
  {
   "cell_type": "code",
   "execution_count": 228,
   "id": "518fd42f-8612-47c7-a90b-fd1eab9025f9",
   "metadata": {},
   "outputs": [
    {
     "data": {
      "text/plain": [
       "[11,\n",
       " 22,\n",
       " 33,\n",
       " 55,\n",
       " 'prem',\n",
       " 23,\n",
       " [12, 122],\n",
       " [45, 54],\n",
       " {'Pawar', 'premk'},\n",
       " 'prem',\n",
       " 23,\n",
       " [12, 122],\n",
       " [45, 54],\n",
       " {'Pawar', 'premk'}]"
      ]
     },
     "execution_count": 228,
     "metadata": {},
     "output_type": "execute_result"
    }
   ],
   "source": [
    "li.extend(li3) # append li with li3 \n",
    "li"
   ]
  },
  {
   "cell_type": "markdown",
   "id": "f257b126-e461-4997-883a-5ec7246f5bb9",
   "metadata": {},
   "source": [
    "# list membership"
   ]
  },
  {
   "cell_type": "code",
   "execution_count": 243,
   "id": "b1c1e9e9-ec28-4f65-a8ec-0199a544dfbd",
   "metadata": {},
   "outputs": [
    {
     "data": {
      "text/plain": [
       "[11, 22, 33, 55]"
      ]
     },
     "execution_count": 243,
     "metadata": {},
     "output_type": "execute_result"
    }
   ],
   "source": [
    "li6"
   ]
  },
  {
   "cell_type": "code",
   "execution_count": 251,
   "id": "34406e2c-803f-44fe-9a02-92fd59af4fe4",
   "metadata": {},
   "outputs": [],
   "source": [
    "l = li6 # copy li6 in l"
   ]
  },
  {
   "cell_type": "code",
   "execution_count": 253,
   "id": "619c31f5-d3e3-40ea-b2f0-db2a7b92115d",
   "metadata": {},
   "outputs": [
    {
     "data": {
      "text/plain": [
       "[11, 22, 33, 55]"
      ]
     },
     "execution_count": 253,
     "metadata": {},
     "output_type": "execute_result"
    }
   ],
   "source": [
    "l"
   ]
  },
  {
   "cell_type": "code",
   "execution_count": 255,
   "id": "6c929770-056d-4195-8904-9128e420c650",
   "metadata": {},
   "outputs": [
    {
     "data": {
      "text/plain": [
       "False"
      ]
     },
     "execution_count": 255,
     "metadata": {},
     "output_type": "execute_result"
    }
   ],
   "source": [
    "\"1\" in l"
   ]
  },
  {
   "cell_type": "code",
   "execution_count": 257,
   "id": "40928c2c-54ae-4f3c-a411-d1c6e15cdb8f",
   "metadata": {},
   "outputs": [
    {
     "data": {
      "text/plain": [
       "False"
      ]
     },
     "execution_count": 257,
     "metadata": {},
     "output_type": "execute_result"
    }
   ],
   "source": [
    "1 in l"
   ]
  },
  {
   "cell_type": "code",
   "execution_count": 259,
   "id": "cfc30a0a-daad-4845-be54-d3527b34523a",
   "metadata": {},
   "outputs": [
    {
     "data": {
      "text/plain": [
       "True"
      ]
     },
     "execution_count": 259,
     "metadata": {},
     "output_type": "execute_result"
    }
   ],
   "source": [
    "11 in l"
   ]
  },
  {
   "cell_type": "code",
   "execution_count": 265,
   "id": "c020afaf-35ac-494e-85e6-f699812bd8c9",
   "metadata": {},
   "outputs": [
    {
     "name": "stdout",
     "output_type": "stream",
     "text": [
      "True\n"
     ]
    }
   ],
   "source": [
    "if 33 in l:         # Using if funtion check 33 are present or no \n",
    "    print (\"True\")\n",
    "else :\n",
    "    print (\"False\")"
   ]
  },
  {
   "cell_type": "code",
   "execution_count": 267,
   "id": "22579798-ef86-4a90-ace9-77be1d20b40a",
   "metadata": {},
   "outputs": [
    {
     "name": "stdout",
     "output_type": "stream",
     "text": [
      "False\n"
     ]
    }
   ],
   "source": [
    "if 10 in l:       # Using if funtion check 10 are present or no \n",
    "    print (\"True\")\n",
    "else :\n",
    "    print (\"False\")"
   ]
  },
  {
   "cell_type": "markdown",
   "id": "3f73a9fd-31a2-4220-9eff-d258dfefca46",
   "metadata": {},
   "source": [
    "# Reverse & Sort List"
   ]
  },
  {
   "cell_type": "code",
   "execution_count": 304,
   "id": "dc9812c0-aa74-462b-9fe0-0a87510d533d",
   "metadata": {},
   "outputs": [
    {
     "data": {
      "text/plain": [
       "[11, 22, 33, 44, 55, 66]"
      ]
     },
     "execution_count": 304,
     "metadata": {},
     "output_type": "execute_result"
    }
   ],
   "source": [
    "l= [11,22,33,44,55,66]\n",
    "l"
   ]
  },
  {
   "cell_type": "code",
   "execution_count": 306,
   "id": "0b800631-fee8-4787-91d1-15f8643b83db",
   "metadata": {},
   "outputs": [],
   "source": [
    "l.reverse() # Use Reverse() the List"
   ]
  },
  {
   "cell_type": "code",
   "execution_count": 308,
   "id": "eae69014-21bf-4cf1-8696-cbb11bc15d81",
   "metadata": {},
   "outputs": [
    {
     "data": {
      "text/plain": [
       "[66, 55, 44, 33, 22, 11]"
      ]
     },
     "execution_count": 308,
     "metadata": {},
     "output_type": "execute_result"
    }
   ],
   "source": [
    "l"
   ]
  },
  {
   "cell_type": "code",
   "execution_count": 310,
   "id": "33a83890-657f-47d2-a63f-9203a2f7654f",
   "metadata": {},
   "outputs": [],
   "source": [
    "# Use another Way "
   ]
  },
  {
   "cell_type": "code",
   "execution_count": 312,
   "id": "eafc9c56-a6f8-4a59-ab6e-32749f7d0a2e",
   "metadata": {},
   "outputs": [
    {
     "data": {
      "text/plain": [
       "[11, 22, 33, 44, 55, 66]"
      ]
     },
     "execution_count": 312,
     "metadata": {},
     "output_type": "execute_result"
    }
   ],
   "source": [
    "l = l[::-1]\n",
    "l"
   ]
  },
  {
   "cell_type": "code",
   "execution_count": 314,
   "id": "4223b813-e572-4efc-99f0-d8bf6631d432",
   "metadata": {},
   "outputs": [],
   "source": [
    "l = l[::-2]"
   ]
  },
  {
   "cell_type": "code",
   "execution_count": 316,
   "id": "a53a96a6-1d9d-46a0-99ed-7ef6a4b491d2",
   "metadata": {},
   "outputs": [
    {
     "data": {
      "text/plain": [
       "[66, 44, 22]"
      ]
     },
     "execution_count": 316,
     "metadata": {},
     "output_type": "execute_result"
    }
   ],
   "source": [
    "l"
   ]
  },
  {
   "cell_type": "markdown",
   "id": "63a8d5fe-6ff2-4004-8f19-92ead8750822",
   "metadata": {},
   "source": [
    "# Sort"
   ]
  },
  {
   "cell_type": "code",
   "execution_count": 321,
   "id": "f4b2db6f-cfbc-44cb-8b41-c8685d974ca0",
   "metadata": {},
   "outputs": [
    {
     "data": {
      "text/plain": [
       "[66, 44, 22]"
      ]
     },
     "execution_count": 321,
     "metadata": {},
     "output_type": "execute_result"
    }
   ],
   "source": [
    "l"
   ]
  },
  {
   "cell_type": "code",
   "execution_count": 325,
   "id": "bcd74bf1-9ca3-49e7-bfee-5a738e8ab487",
   "metadata": {},
   "outputs": [
    {
     "data": {
      "text/plain": [
       "[66, 44, 22, 11, 10, 9]"
      ]
     },
     "execution_count": 325,
     "metadata": {},
     "output_type": "execute_result"
    }
   ],
   "source": [
    "l.append(11)\n",
    "l.append(10)\n",
    "l.append(9)\n",
    "l"
   ]
  },
  {
   "cell_type": "code",
   "execution_count": 327,
   "id": "c220e43a-15c7-41d5-88be-344018dcd515",
   "metadata": {},
   "outputs": [],
   "source": [
    "# sort list in assending order "
   ]
  },
  {
   "cell_type": "code",
   "execution_count": 329,
   "id": "24160467-28e7-4657-bc02-07c24c447261",
   "metadata": {},
   "outputs": [],
   "source": [
    "l.sort()"
   ]
  },
  {
   "cell_type": "code",
   "execution_count": 331,
   "id": "74ab28f1-17e2-43ec-adfe-fdb740971b80",
   "metadata": {},
   "outputs": [
    {
     "data": {
      "text/plain": [
       "[9, 10, 11, 22, 44, 66]"
      ]
     },
     "execution_count": 331,
     "metadata": {},
     "output_type": "execute_result"
    }
   ],
   "source": [
    "l"
   ]
  },
  {
   "cell_type": "code",
   "execution_count": 335,
   "id": "7a6b3657-fa36-4398-bd7b-9e772df35ff7",
   "metadata": {},
   "outputs": [
    {
     "data": {
      "text/plain": [
       "[66, 44, 22, 11, 10, 9]"
      ]
     },
     "execution_count": 335,
     "metadata": {},
     "output_type": "execute_result"
    }
   ],
   "source": [
    "l.sort(reverse = True)  #reverse order\n",
    "l"
   ]
  },
  {
   "cell_type": "code",
   "execution_count": 383,
   "id": "f849dfac-145d-4995-a240-759f6f73071d",
   "metadata": {},
   "outputs": [
    {
     "data": {
      "text/plain": [
       "[12, 34, 12, 1, 3, 64, 12, 65]"
      ]
     },
     "execution_count": 383,
     "metadata": {},
     "output_type": "execute_result"
    }
   ],
   "source": [
    "l2 = [12,34,12,1,3,64,12,65]\n",
    "l2"
   ]
  },
  {
   "cell_type": "code",
   "execution_count": 385,
   "id": "1b9108b2-897a-4668-abc0-f0b72e306c15",
   "metadata": {},
   "outputs": [
    {
     "data": {
      "text/plain": [
       "[1, 3, 12, 12, 12, 34, 64, 65]"
      ]
     },
     "execution_count": 385,
     "metadata": {},
     "output_type": "execute_result"
    }
   ],
   "source": [
    "sorted(l2)   # Returns a new sorted list and doesn't  change original length"
   ]
  },
  {
   "cell_type": "markdown",
   "id": "701b7806-0c4f-4e6c-b80d-bad2209d8768",
   "metadata": {},
   "source": [
    "# Loop through a list \n"
   ]
  },
  {
   "cell_type": "code",
   "execution_count": 388,
   "id": "6df05fe0-bd4f-40cd-adb5-c0d568a1806b",
   "metadata": {},
   "outputs": [
    {
     "data": {
      "text/plain": [
       "[12, 34, 12, 1, 3, 64, 12, 65]"
      ]
     },
     "execution_count": 388,
     "metadata": {},
     "output_type": "execute_result"
    }
   ],
   "source": [
    "l2"
   ]
  },
  {
   "cell_type": "code",
   "execution_count": 373,
   "id": "11a0fd11-96fb-4205-a581-265ae3b31964",
   "metadata": {},
   "outputs": [
    {
     "name": "stdout",
     "output_type": "stream",
     "text": [
      "\t12\n",
      "\t432\n",
      "\t1\n",
      "\t32\n",
      "\t12\n",
      "\t4\n"
     ]
    }
   ],
   "source": [
    "l4 = [12,432,1,32,12,4]\n",
    "for i in l4:\n",
    "    print(\"\\t\" + str(i))"
   ]
  },
  {
   "cell_type": "code",
   "execution_count": 375,
   "id": "882681f8-b3a7-4ac3-aadf-433d75023c6c",
   "metadata": {},
   "outputs": [
    {
     "ename": "TypeError",
     "evalue": "can only concatenate str (not \"int\") to str",
     "output_type": "error",
     "traceback": [
      "\u001b[1;31m---------------------------------------------------------------------------\u001b[0m",
      "\u001b[1;31mTypeError\u001b[0m                                 Traceback (most recent call last)",
      "Cell \u001b[1;32mIn[375], line 3\u001b[0m\n\u001b[0;32m      1\u001b[0m l2 \u001b[38;5;241m=\u001b[39m [\u001b[38;5;241m10\u001b[39m, \u001b[38;5;241m20\u001b[39m, \u001b[38;5;241m30\u001b[39m]  \u001b[38;5;66;03m# List with integers\u001b[39;00m\n\u001b[0;32m      2\u001b[0m \u001b[38;5;28;01mfor\u001b[39;00m i \u001b[38;5;129;01min\u001b[39;00m l2:\n\u001b[1;32m----> 3\u001b[0m     \u001b[38;5;28mprint\u001b[39m(\u001b[38;5;124m\"\u001b[39m\u001b[38;5;130;01m\\t\u001b[39;00m\u001b[38;5;124m\"\u001b[39m \u001b[38;5;241m+\u001b[39m i)\n",
      "\u001b[1;31mTypeError\u001b[0m: can only concatenate str (not \"int\") to str"
     ]
    }
   ],
   "source": [
    "l2 = [10, 20, 30]  # List with integers\n",
    "for i in l2:\n",
    "    print(\"\\t\" + i)  #  ERROR: Cannot concatenate str and int\n"
   ]
  },
  {
   "cell_type": "code",
   "execution_count": 390,
   "id": "9c3ad42d-8e5d-4856-950b-cd338d0f1387",
   "metadata": {},
   "outputs": [
    {
     "name": "stdout",
     "output_type": "stream",
     "text": [
      "\t12\n",
      "\t34\n",
      "\t12\n",
      "\t1\n",
      "\t3\n",
      "\t64\n",
      "\t12\n",
      "\t65\n"
     ]
    }
   ],
   "source": [
    "for i in l2:\n",
    "    print(\"\\t\" + str(i))  \n"
   ]
  },
  {
   "cell_type": "code",
   "execution_count": 392,
   "id": "d3287bc0-bfe9-4f44-93ab-22300b66989b",
   "metadata": {},
   "outputs": [
    {
     "name": "stdout",
     "output_type": "stream",
     "text": [
      "12\t34\t12\t1\t3\t64\t12\t65\n"
     ]
    }
   ],
   "source": [
    "print(\"\\t\".join(map(str, l2)))"
   ]
  },
  {
   "cell_type": "code",
   "execution_count": 394,
   "id": "cb8f421a-2614-42dd-97c2-5de99dea31da",
   "metadata": {},
   "outputs": [
    {
     "name": "stdout",
     "output_type": "stream",
     "text": [
      "12\t34\t12\t1\t3\t64\t12\t65\t"
     ]
    }
   ],
   "source": [
    "for i in l2:\n",
    "    print(i,end=\"\\t\")"
   ]
  },
  {
   "cell_type": "code",
   "execution_count": 398,
   "id": "5b06e8f5-fabf-4609-8b58-130beed30339",
   "metadata": {},
   "outputs": [
    {
     "name": "stdout",
     "output_type": "stream",
     "text": [
      "(0, 12)\t(1, 34)\t(2, 12)\t(3, 1)\t(4, 3)\t(5, 64)\t(6, 12)\t(7, 65)\t"
     ]
    }
   ],
   "source": [
    "for i in enumerate (l2):\n",
    "    print(i, end=\"\\t\")"
   ]
  },
  {
   "cell_type": "code",
   "execution_count": 412,
   "id": "cffa6388-4a59-4134-be87-152e5c662566",
   "metadata": {},
   "outputs": [
    {
     "name": "stdout",
     "output_type": "stream",
     "text": [
      "index = 0, value = 12\tindex = 1, value = 34\tindex = 2, value = 12\tindex = 3, value = 1\tindex = 4, value = 3\tindex = 5, value = 64\tindex = 6, value = 12\tindex = 7, value = 65\t"
     ]
    }
   ],
   "source": [
    "for j, k in enumerate (l2):  #usinng Enumerate Print Index and there value\n",
    "    print(f\"index = {j}, value = {k}\", end = \"\\t\")"
   ]
  },
  {
   "cell_type": "code",
   "execution_count": 420,
   "id": "27595ab9-f508-4e0b-bfd2-e5c7233abeee",
   "metadata": {},
   "outputs": [],
   "source": [
    "# separately print the value index"
   ]
  },
  {
   "cell_type": "code",
   "execution_count": 422,
   "id": "49bd3aa9-87ef-45a5-9828-2759d5e71952",
   "metadata": {},
   "outputs": [
    {
     "data": {
      "text/plain": [
       "[12, 34, 12, 1, 3, 64, 12, 65]"
      ]
     },
     "execution_count": 422,
     "metadata": {},
     "output_type": "execute_result"
    }
   ],
   "source": [
    "l2"
   ]
  },
  {
   "cell_type": "code",
   "execution_count": 424,
   "id": "d57114e3-08b5-4408-8a7d-7007f6e86788",
   "metadata": {},
   "outputs": [
    {
     "data": {
      "text/plain": [
       "1"
      ]
     },
     "execution_count": 424,
     "metadata": {},
     "output_type": "execute_result"
    }
   ],
   "source": [
    "l2.count(64) # Counte the total no of value are present"
   ]
  },
  {
   "cell_type": "code",
   "execution_count": 426,
   "id": "fef1150b-960a-4e94-8cd9-8d674fe8cb7c",
   "metadata": {},
   "outputs": [
    {
     "data": {
      "text/plain": [
       "3"
      ]
     },
     "execution_count": 426,
     "metadata": {},
     "output_type": "execute_result"
    }
   ],
   "source": [
    "l2.count(12)"
   ]
  },
  {
   "cell_type": "markdown",
   "id": "e4906797-3777-4485-a512-28e36dfbe4fa",
   "metadata": {},
   "source": [
    "# All / Any"
   ]
  },
  {
   "cell_type": "code",
   "execution_count": 441,
   "id": "3ede3c33-dfc5-44e7-a0c8-64ab608d6273",
   "metadata": {},
   "outputs": [
    {
     "data": {
      "text/plain": [
       "[12, 34, 12, 1, 3, 64, 12, 65, 0]"
      ]
     },
     "execution_count": 441,
     "metadata": {},
     "output_type": "execute_result"
    }
   ],
   "source": [
    "l2"
   ]
  },
  {
   "cell_type": "code",
   "execution_count": 443,
   "id": "2ecccf4f-64b1-41e4-9625-318f4c7385b0",
   "metadata": {},
   "outputs": [
    {
     "data": {
      "text/plain": [
       "False"
      ]
     },
     "execution_count": 443,
     "metadata": {},
     "output_type": "execute_result"
    }
   ],
   "source": [
    "all(l2)  # Will Return false as one value is false\n",
    "         # (Value 0) "
   ]
  },
  {
   "cell_type": "code",
   "execution_count": 449,
   "id": "033c258d-1b46-4696-9860-b515bf441407",
   "metadata": {},
   "outputs": [
    {
     "data": {
      "text/plain": [
       "[12, 34, 12, 1, 3, 64, 12, 65, 0]"
      ]
     },
     "execution_count": 449,
     "metadata": {},
     "output_type": "execute_result"
    }
   ],
   "source": [
    "l2.append(0)\n",
    "l2"
   ]
  },
  {
   "cell_type": "code",
   "execution_count": 451,
   "id": "49bcd66f-2f01-4837-b573-1388790559ec",
   "metadata": {},
   "outputs": [
    {
     "data": {
      "text/plain": [
       "False"
      ]
     },
     "execution_count": 451,
     "metadata": {},
     "output_type": "execute_result"
    }
   ],
   "source": [
    "all(l2)"
   ]
  },
  {
   "cell_type": "code",
   "execution_count": 453,
   "id": "6f2f4b49-ff49-487f-b9cf-5388a55a5944",
   "metadata": {},
   "outputs": [],
   "source": [
    "# will return True as we have items in the \n",
    "# list with True value"
   ]
  },
  {
   "cell_type": "code",
   "execution_count": null,
   "id": "a6f3787c-b720-44d9-abc4-23590fc35f06",
   "metadata": {},
   "outputs": [],
   "source": []
  }
 ],
 "metadata": {
  "kernelspec": {
   "display_name": "Python [conda env:base] *",
   "language": "python",
   "name": "conda-base-py"
  },
  "language_info": {
   "codemirror_mode": {
    "name": "ipython",
    "version": 3
   },
   "file_extension": ".py",
   "mimetype": "text/x-python",
   "name": "python",
   "nbconvert_exporter": "python",
   "pygments_lexer": "ipython3",
   "version": "3.12.7"
  }
 },
 "nbformat": 4,
 "nbformat_minor": 5
}
